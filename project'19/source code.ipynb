{
 "cells": [
  {
   "cell_type": "code",
   "execution_count": 1,
   "metadata": {},
   "outputs": [],
   "source": [
    "import pandas as pd\n",
    "import numpy as np\n",
    "from nltk.tokenize import word_tokenize\n",
    "from nltk import pos_tag\n",
    "from nltk.corpus import stopwords\n",
    "from nltk.stem import WordNetLemmatizer\n",
    "from sklearn.preprocessing import LabelEncoder\n",
    "from collections import defaultdict\n",
    "from nltk.corpus import wordnet as wn\n",
    "from sklearn.feature_extraction.text import TfidfVectorizer\n",
    "from sklearn import model_selection, naive_bayes, svm\n",
    "from sklearn.metrics import accuracy_score"
   ]
  },
  {
   "cell_type": "code",
   "execution_count": 2,
   "metadata": {},
   "outputs": [],
   "source": [
    "np.random.seed(500)"
   ]
  },
  {
   "cell_type": "code",
   "execution_count": 3,
   "metadata": {},
   "outputs": [],
   "source": [
    "train=pd.read_csv('tweet_train.csv')"
   ]
  },
  {
   "cell_type": "code",
   "execution_count": 4,
   "metadata": {},
   "outputs": [
    {
     "data": {
      "text/plain": [
       "0    hitting gym! afterwards looking forward rewiri...\n",
       "1                              doesnt want go work lol\n",
       "2    @SherriGarrity Sorry I missed responding yeste...\n",
       "3                                 wanna come bohol!!!!\n",
       "4                                          I cold buee\n",
       "Name: TWEET, dtype: object"
      ]
     },
     "execution_count": 4,
     "metadata": {},
     "output_type": "execute_result"
    }
   ],
   "source": [
    "from nltk.corpus import stopwords\n",
    "stop = stopwords.words('english')\n",
    "train['TWEET'] = train['TWEET'].apply(lambda x: \" \".join(x for x in x.split() if x not in stop))\n",
    "train['TWEET'].head()\n"
   ]
  },
  {
   "cell_type": "code",
   "execution_count": 5,
   "metadata": {},
   "outputs": [
    {
     "data": {
      "text/plain": [
       "I       2962\n",
       "I'm      580\n",
       "like     482\n",
       "get      473\n",
       "-        466\n",
       "work     396\n",
       "go       395\n",
       "good     394\n",
       "day      344\n",
       "got      334\n",
       "dtype: int64"
      ]
     },
     "execution_count": 5,
     "metadata": {},
     "output_type": "execute_result"
    }
   ],
   "source": [
    "freq = pd.Series(' '.join(train['TWEET']).split()).value_counts()[:10]\n",
    "freq"
   ]
  },
  {
   "cell_type": "code",
   "execution_count": 6,
   "metadata": {},
   "outputs": [
    {
     "data": {
      "text/plain": [
       "0    hitting gym! afterwards looking forward rewiri...\n",
       "1                                      doesnt want lol\n",
       "2    @SherriGarrity Sorry missed responding yesterd...\n",
       "3                                 wanna come bohol!!!!\n",
       "4                                            cold buee\n",
       "Name: TWEET, dtype: object"
      ]
     },
     "execution_count": 6,
     "metadata": {},
     "output_type": "execute_result"
    }
   ],
   "source": [
    "freq = list(freq.index)\n",
    "train['TWEET'] = train['TWEET'].apply(lambda x: \" \".join(x for x in x.split() if x not in freq))\n",
    "train['TWEET'].head()"
   ]
  },
  {
   "cell_type": "code",
   "execution_count": 7,
   "metadata": {},
   "outputs": [
    {
     "data": {
      "text/plain": [
       "eggs                                                        1\n",
       "Dizzle                                                      1\n",
       "http://bit.ly/gKdmC                                         1\n",
       "@odaraia                                                    1\n",
       "Melbourne!                                                  1\n",
       "(and/or                                                     1\n",
       "period.                                                     1\n",
       "fw/proxy                                                    1\n",
       "@viirak                                                     1\n",
       "http://www.etsy.com/view_listing.php?listing_id=21362047    1\n",
       "dtype: int64"
      ]
     },
     "execution_count": 7,
     "metadata": {},
     "output_type": "execute_result"
    }
   ],
   "source": [
    "freq = pd.Series(' '.join(train['TWEET']).split()).value_counts()[-10:]\n",
    "freq"
   ]
  },
  {
   "cell_type": "code",
   "execution_count": 12,
   "metadata": {},
   "outputs": [
    {
     "data": {
      "text/plain": [
       "WordList(['doesnt', 'want', 'lol'])"
      ]
     },
     "execution_count": 12,
     "metadata": {},
     "output_type": "execute_result"
    }
   ],
   "source": [
    "from textblob import TextBlob\n",
    "TextBlob(train['TWEET'][1]).words"
   ]
  },
  {
   "cell_type": "code",
   "execution_count": 13,
   "metadata": {},
   "outputs": [
    {
     "data": {
      "text/plain": [
       "0    hit gym! afterward look forward rewir studio.....\n",
       "1                                      doesnt want lol\n",
       "2    @sherrigarr sorri miss respond yesterday roche...\n",
       "3                                 wanna come bohol!!!!\n",
       "4                                            cold buee\n",
       "Name: TWEET, dtype: object"
      ]
     },
     "execution_count": 13,
     "metadata": {},
     "output_type": "execute_result"
    }
   ],
   "source": [
    "from nltk.stem import PorterStemmer\n",
    "st = PorterStemmer()\n",
    "train['TWEET'][:5].apply(lambda x: \" \".join([st.stem(word) for word in x.split()]))"
   ]
  },
  {
   "cell_type": "code",
   "execution_count": 14,
   "metadata": {},
   "outputs": [
    {
     "data": {
      "text/plain": [
       "0    hitting gym! afterwards looking forward rewiri...\n",
       "1                                      doesnt want lol\n",
       "2    @SherriGarrity Sorry missed responding yesterd...\n",
       "3                                 wanna come bohol!!!!\n",
       "4                                            cold buee\n",
       "Name: TWEET, dtype: object"
      ]
     },
     "execution_count": 14,
     "metadata": {},
     "output_type": "execute_result"
    }
   ],
   "source": [
    "from textblob import Word\n",
    "train['TWEET'] = train['TWEET'].apply(lambda x: \" \".join([Word(word).lemmatize() for word in x.split()]))\n",
    "train['TWEET'].head()"
   ]
  },
  {
   "cell_type": "code",
   "execution_count": 15,
   "metadata": {},
   "outputs": [
    {
     "data": {
      "text/plain": [
       "0    [(hitting, VBG), (gym!, NN), (afterwards, NNS)...\n",
       "1               [(doesnt, NN), (want, VBP), (lol, NN)]\n",
       "2    [(@SherriGarrity, NN), (Sorry, NNP), (missed, ...\n",
       "3           [(wanna, NN), (come, VB), (bohol!!!!, NN)]\n",
       "4                             [(cold, JJ), (buee, NN)]\n",
       "Name: TWEET, dtype: object"
      ]
     },
     "execution_count": 15,
     "metadata": {},
     "output_type": "execute_result"
    }
   ],
   "source": [
    "from nltk import pos_tag\n",
    "text=train['TWEET'].str.split().map(pos_tag)\n",
    "text.head()\n",
    "                                "
   ]
  },
  {
   "cell_type": "code",
   "execution_count": 16,
   "metadata": {},
   "outputs": [
    {
     "data": {
      "text/html": [
       "<div>\n",
       "<style scoped>\n",
       "    .dataframe tbody tr th:only-of-type {\n",
       "        vertical-align: middle;\n",
       "    }\n",
       "\n",
       "    .dataframe tbody tr th {\n",
       "        vertical-align: top;\n",
       "    }\n",
       "\n",
       "    .dataframe thead th {\n",
       "        text-align: right;\n",
       "    }\n",
       "</style>\n",
       "<table border=\"1\" class=\"dataframe\">\n",
       "  <thead>\n",
       "    <tr style=\"text-align: right;\">\n",
       "      <th></th>\n",
       "      <th>TWEET</th>\n",
       "      <th>sentiment</th>\n",
       "    </tr>\n",
       "  </thead>\n",
       "  <tbody>\n",
       "    <tr>\n",
       "      <th>0</th>\n",
       "      <td>hitting gym! afterwards looking forward rewiri...</td>\n",
       "      <td>0.000000</td>\n",
       "    </tr>\n",
       "    <tr>\n",
       "      <th>1</th>\n",
       "      <td>doesnt want lol</td>\n",
       "      <td>0.800000</td>\n",
       "    </tr>\n",
       "    <tr>\n",
       "      <th>2</th>\n",
       "      <td>@SherriGarrity Sorry missed responding yesterd...</td>\n",
       "      <td>-0.185938</td>\n",
       "    </tr>\n",
       "    <tr>\n",
       "      <th>3</th>\n",
       "      <td>wanna come bohol!!!!</td>\n",
       "      <td>0.000000</td>\n",
       "    </tr>\n",
       "    <tr>\n",
       "      <th>4</th>\n",
       "      <td>cold buee</td>\n",
       "      <td>-0.600000</td>\n",
       "    </tr>\n",
       "  </tbody>\n",
       "</table>\n",
       "</div>"
      ],
      "text/plain": [
       "                                               TWEET  sentiment\n",
       "0  hitting gym! afterwards looking forward rewiri...   0.000000\n",
       "1                                    doesnt want lol   0.800000\n",
       "2  @SherriGarrity Sorry missed responding yesterd...  -0.185938\n",
       "3                               wanna come bohol!!!!   0.000000\n",
       "4                                          cold buee  -0.600000"
      ]
     },
     "execution_count": 16,
     "metadata": {},
     "output_type": "execute_result"
    }
   ],
   "source": [
    "train['sentiment'] = train['TWEET'].apply(lambda x: TextBlob(x).sentiment[0] )\n",
    "train[['TWEET','sentiment']].head()"
   ]
  },
  {
   "cell_type": "code",
   "execution_count": 17,
   "metadata": {},
   "outputs": [],
   "source": [
    "Train_X, Test_X, Train_Y, Test_Y = model_selection.train_test_split(train['TWEET'],train['POLARITY'],test_size=0.3)"
   ]
  },
  {
   "cell_type": "code",
   "execution_count": 18,
   "metadata": {},
   "outputs": [],
   "source": [
    "Encoder = LabelEncoder()\n",
    "Train_Y = Encoder.fit_transform(Train_Y)\n",
    "Test_Y = Encoder.fit_transform(Test_Y)"
   ]
  },
  {
   "cell_type": "code",
   "execution_count": 19,
   "metadata": {},
   "outputs": [],
   "source": [
    "Tfidf_vect = TfidfVectorizer(max_features=1500)\n",
    "Tfidf_vect.fit(train['TWEET'])\n",
    "Train_X_Tfidf = Tfidf_vect.transform(Train_X)\n",
    "Test_X_Tfidf = Tfidf_vect.transform(Test_X)"
   ]
  },
  {
   "cell_type": "code",
   "execution_count": 20,
   "metadata": {},
   "outputs": [
    {
     "name": "stdout",
     "output_type": "stream",
     "text": [
      "{'gym': 572, 'looking': 773, 'forward': 506, 'studio': 1223, 'yet': 1489, 'doesnt': 349, 'want': 1393, 'lol': 765, 'sorry': 1187, 'missed': 838, 'yesterday': 1488, 'far': 451, 'dark': 311, 'chocolate': 245, 'wanna': 1392, 'come': 266, 'cold': 262, 'ate': 104, 'food': 499, 'cake': 213, 'another': 72, 'driving': 369, 'back': 121, 'la': 722, 'tomorrow': 1311, 'sleep': 1156, 'still': 1213, 'outside': 936, 'least': 737, 'sunny': 1237, 'for': 501, 'running': 1076, 'low': 784, 'http': 643, 'plurk': 986, 'com': 265, 'at': 103, 'lunch': 788, 'break': 183, 'tired': 1304, 'ready': 1038, 'trouble': 1331, 'sleeping': 1157, 'finger': 478, 'hot': 636, 'cup': 298, 'tea': 1260, 'ouch': 933, 'it': 686, 'time': 1300, 'that': 1275, 'thing': 1283, 'stay': 1208, 'right': 1064, 'then': 1279, 'someone': 1174, 'mileycyrus': 829, 'problem': 1009, 'here': 614, 'let': 744, 'see': 1104, 'me': 813, 'way': 1404, 'school': 1095, 'today': 1306, 'im': 662, 'sick': 1140, 'gone': 550, 'forever': 502, 'hope': 631, 'something': 1175, 'bring': 189, 'can': 218, 'seem': 1106, 'one': 921, 'sad': 1078, 'must': 867, 'boring': 172, 'twitpic': 1348, 'he': 598, 'hair': 579, 'all': 52, 'know': 720, 'is': 682, 'feeling': 464, 'dancing': 310, 'rain': 1028, 'but': 208, 'stopped': 1216, 'ohh': 913, 'well': 1417, 'll': 762, 'watch': 1399, 'flight': 487, 'instead': 674, 'friend': 515, 'your': 1493, 'online': 922, 'tonight': 1312, 'bummer': 203, 'and': 68, 'no': 892, 'music': 865, 'either': 391, 'started': 1205, 'getting': 537, 'wishing': 1441, 'could': 283, 'star': 1202, 'trek': 1328, 'hit': 623, 'really': 1042, 'hard': 589, 'door': 357, 'cant': 220, 'wait': 1387, 'hate': 591, 'gettin': 536, 'need': 879, 'as': 97, 'away': 112, '24': 13, 'bt': 197, 'sure': 1242, 'amp': 66, 'uk': 1355, 'maybe': 812, 'may': 811, 'able': 24, 'earlier': 380, 'wont': 1451, 'til': 1297, 'wow': 1465, 'search': 1099, 'many': 803, 'apparently': 81, 'used': 1370, 'depressed': 330, 'april': 87, 'sock': 1169, 'so': 1167, 'dropped': 371, 'car': 221, 'without': 1443, 'spending': 1197, 'working': 1456, 'business': 206, 'law': 733, 'paper': 946, 'till': 1298, 'done': 355, 'hopefully': 632, 'too': 1313, 'assignment': 102, 'though': 1290, 'site': 1153, 'got': 558, 'twilight': 1347, 'nearly': 878, 'english': 401, 'make': 797, 'even': 412, 'more': 852, 'going': 549, 'name': 874, 'baby': 120, 'june': 701, 'soon': 1183, 'enough': 405, 'my': 868, 'am': 63, 'end': 396, 'what': 1420, 'common': 269, 'morning': 854, 'everyone': 418, 'stuck': 1221, 'think': 1285, 'pretty': 1004, 'go': 546, 'find': 475, 'anywhere': 79, 'home': 629, 'flu': 489, 'ahhh': 45, 'hour': 637, 'the': 1277, 'first': 481, 'city': 249, 'stupid': 1227, 'ive': 690, 'txt': 1351, 'again': 38, 'understand': 1356, 'ur': 1366, 'last': 726, 'tweet': 1341, 'news': 884, 'in': 666, '2009': 12, 'shoe': 1128, 'feel': 463, 'change': 234, 'picture': 970, 'part': 948, 'good': 552, 'allowed': 54, 'cry': 296, 'staying': 1210, 'late': 727, 'stuff': 1226, 'starting': 1206, 'cut': 302, 'oh': 912, 'happen': 585, 'thinking': 1286, 'pay': 953, 'day': 315, 'week': 1412, 'choice': 246, 'since': 1147, 'blocked': 162, 'hulu': 649, 'waiting': 1388, 'area': 89, 'making': 799, 'uni': 1358, 'student': 1222, 'arrived': 93, 'poor': 991, 'folk': 493, 'tried': 1329, 'fresh': 513, 'app': 80, 'yeah': 1482, 'show': 1136, 'watching': 1401, 'not': 899, 'missing': 839, 'boy': 178, 'omg': 918, 'house': 639, 'ever': 415, 'they': 1282, 're': 1035, 'xd': 1472, 'miss': 837, 'early': 381, 'leaving': 739, 'start': 1204, 'set': 1119, 'except': 425, 'huge': 646, 'guys': 571, 'stand': 1201, 'will': 1432, 'load': 764, 'broke': 191, 'fucking': 523, 'phone': 963, 'people': 956, 'town': 1321, 'using': 1372, 'ok': 915, 'gig': 538, 'planned': 977, 'you': 1492, 'work': 1454, 'xx': 1475, 'this': 1288, 'old': 917, 'world': 1458, 'hanging': 584, 'men': 819, 'actually': 31, 'exist': 430, 'love': 780, 'guess': 567, 'clean': 251, 'spot': 1199, 'woken': 1445, 'gt': 566, 'lt': 785, 'traffic': 1324, 'haha': 575, 'thought': 1291, 'would': 1464, 'much': 863, 'we': 1405, 've': 1376, 'holiday': 626, 'meant': 815, 'mom': 844, 'soft': 1170, 'top': 1316, 'wet': 1419, 'open': 927, 'finally': 474, 'yes': 1487, 'simple': 1146, 'game': 529, 'group': 565, 'fan': 448, 'just': 703, 'figure': 470, 'out': 935, 'tell': 1264, 'long': 768, 'seen': 1108, 'ask': 98, 'full': 524, 'wish': 1440, 'tour': 1320, 'damn': 307, 'expensive': 432, 'or': 928, 'death': 322, 'birthday': 155, 'days': 316, 'yay': 1480, 'cough': 282, 'life': 748, 'slow': 1160, 'ahead': 43, 'sigh': 1142, 'didnt': 337, 'plan': 976, 'changed': 235, 'did': 335, 'thanks': 1273, 'lazy': 734, 'three': 1292, 'short': 1132, 'story': 1218, 'weeks': 1414, 'never': 882, 'finished': 480, 'anything': 77, 'have': 593, 'focus': 492, 'uh': 1354, 'say': 1089, 'air': 47, 'holy': 628, 'thats': 1276, 'update': 1361, 'take': 1252, '10': 1, 'night': 890, 'lovely': 782, 'hoping': 633, 'fall': 444, 'asleep': 100, 'definitely': 325, 'email': 394, 'blip': 160, 'fm': 491, 'why': 1429, 'do': 345, 'window': 1435, 'grey': 563, 'ill': 661, 'mind': 832, 'trying': 1334, 'write': 1466, 'class': 250, 'lot': 779, 'dentist': 329, 'moment': 845, 'very': 1379, 'sore': 1186, 'nice': 888, 'easy': 386, 'rest': 1057, 'coke': 261, 'mobile': 843, 'broken': 192, 'iphone': 680, 'anyway': 78, 'quot': 1025, 'shopping': 1131, '2day': 14, 'being': 145, 'there': 1281, 'nothing': 901, 'quote': 1026, 'sat': 1085, 'next': 885, '30': 16, 'years': 1484, 'pink': 972, 'ticket': 1296, 'blog': 163, 'coming': 267, 'on': 919, 'bad': 124, 'leave': 738, 'min': 831, 'xxx': 1476, 'big': 152, 'everything': 419, 'room': 1069, 'liking': 752, 'argh': 90, 'down': 360, 'row': 1072, 'round': 1071, 'train': 1325, 'don': 354, 'water': 1402, 'ya': 1477, 'self': 1109, 'worst': 1462, 'dream': 362, 'usual': 1373, 'probably': 1008, 'gonna': 551, 'true': 1332, 'bed': 139, 'horrible': 634, 'also': 60, 'easter': 385, 'dunno': 376, 'upset': 1365, 'ran': 1031, 'woke': 1444, 'reply': 1053, 'man': 801, 'internet': 677, 'atm': 105, 'sun': 1235, 'painful': 943, 'peace': 955, 'answer': 73, 'help': 611, 'heart': 605, 'kind': 713, 'things': 1284, 'bored': 171, 'of': 906, 'funny': 526, 'foot': 500, 'quite': 1024, 'now': 903, 'pizza': 974, 'headache': 600, 'course': 286, 'bit': 156, 'boo': 169, 'reason': 1043, 'strong': 1220, 'only': 923, 'managed': 802, 'cool': 278, 'realised': 1040, 'might': 826, 'final': 473, 'nose': 898, 'awful': 114, 'found': 507, 'use': 1369, 'windows': 1436, 'twitter': 1349, 'software': 1171, 'turn': 1337, 'off': 907, 'pc': 954, 'weekend': 1413, 'bag': 126, 'smell': 1163, 'lie': 747, 'awake': 111, 'lonely': 767, 'keep': 704, 'company': 270, 'study': 1224, 'hows': 641, 'call': 214, 'movie': 858, 'weather': 1408, 'file': 471, 'awww': 116, 'seriously': 1115, 'dog': 350, 'miley': 828, 'xoxo': 1474, 'fail': 442, 'bus': 205, 'later': 729, 'sound': 1189, 'fun': 525, 'nah': 872, 'couple': 285, 'unfortunately': 1357, 'message': 821, 'try': 1333, 'report': 1054, 'slowly': 1161, 'saw': 1088, 'red': 1047, 'huh': 648, 'like': 750, 'scared': 1091, 'moving': 859, 'fear': 459, 'heard': 604, 'new': 883, 'single': 1150, 'fell': 466, 'workout': 1457, 'energy': 399, 'where': 1424, 'awwww': 117, 'guy': 570, 'bloody': 166, 'waking': 1390, 'hurts': 654, 'almost': 55, 'totally': 1317, 'read': 1036, 'error': 408, 'add': 33, 'library': 746, 'pain': 942, 'post': 996, 'video': 1383, 'beat': 137, 'revision': 1061, 'nobody': 893, 'okay': 916, 'anyone': 76, 'info': 669, 'club': 258, 'cost': 280, 'year': 1483, 'please': 983, 'invite': 679, 'yall': 1478, 'ear': 379, 'face': 439, 'alas': 49, 'ride': 1063, 'park': 947, 'tv': 1340, 'ad': 32, 'loved': 781, 'episode': 407, 'ps': 1017, 'computer': 272, 'suddenly': 1232, 'kids': 709, 'saturday': 1086, 'explain': 434, 'black': 158, 'seeing': 1105, 'some': 1173, 'ppl': 999, 'isnt': 684, 'aww': 115, 'fine': 477, 'be': 134, 'google': 555, 'apps': 86, 'account': 27, 'contact': 275, 'net': 881, 'mail': 796, 'hurt': 652, 'her': 613, 'alone': 56, 'anymore': 75, 'our': 934, 'version': 1378, 'small': 1162, 'team': 1261, 'currently': 300, 'hug': 645, 'office': 909, 'yea': 1481, 'sitting': 1154, 'around': 92, 'orange': 929, 'blue': 167, 'everybody': 417, 'joke': 698, 'mean': 814, 'art': 94, 'hold': 625, 'job': 695, 'better': 150, 'idea': 658, 'pic': 967, 'kitty': 717, 'cable': 212, 'snow': 1165, 'lmao': 763, 'kill': 710, 'possible': 995, 'head': 599, 'ache': 28, 'suck': 1230, 'point': 989, 'shop': 1130, 'slept': 1159, 'badly': 125, 'hell': 609, 'always': 62, 'little': 759, 'already': 58, 'especially': 409, '12': 5, 'drink': 366, 'starbucks': 1203, 'busy': 207, 'same': 1084, 'has': 590, 'bunch': 204, 'hi': 616, 'college': 263, 'party': 949, 'bar': 130, 'bought': 175, 'camera': 217, 'went': 1418, 'dead': 319, 'cause': 228, 'two': 1350, 'hand': 581, 'ah': 42, 'luck': 786, 'posted': 997, 'photo': 964, 'bear': 136, 'island': 683, 'eye': 437, 'longer': 769, 'she': 1122, 'eating': 388, 'worried': 1459, 'laptop': 725, 'fucked': 522, 'system': 1250, 'lil': 753, 'brother': 193, 'stayed': 1209, 'up': 1360, 'happy': 588, 'song': 1180, 'child': 243, 'tinyurl': 1302, 'ruined': 1074, 'us': 1368, 'facebook': 440, 'profile': 1011, 'view': 1384, 'list': 756, 'heading': 601, 'lost': 778, 'cat': 225, 'blood': 165, 'de': 318, 'seems': 1107, 'empty': 395, 'sucks': 1231, 'else': 392, 'bothered': 174, 'dressed': 365, 'past': 952, 'si': 1139, 'completely': 271, 'wanting': 1395, 'sunshine': 1238, 'pool': 990, 'finish': 479, 'mix': 841, 'bout': 176, 'hill': 619, 'lucky': 787, 'put': 1019, 'beta': 149, 'ff': 468, 'hmm': 624, 'silly': 1145, 'mistake': 840, 'germany': 534, 'monday': 846, 'tuesday': 1335, 'wondering': 1450, 'following': 498, 'gotta': 559, 'interesting': 676, 'fashion': 452, 'annoying': 71, 'place': 975, 'half': 580, 'closed': 256, 'doing': 352, 'drinking': 367, 'to': 1305, 'called': 215, 'believe': 146, 'freaking': 509, 'fb': 458, 'fact': 441, 'dance': 309, 'side': 1141, 'vacation': 1375, '6am': 22, 'ow': 938, 'tummy': 1336, 'learn': 736, 'when': 1423, 'link': 755, 'happens': 587, 'was': 1397, 'ugh': 1353, 'wake': 1389, 'dvd': 377, 'girl': 539, 'family': 446, 'friends': 516, 'meeting': 817, 'afternoon': 37, 'coffee': 260, 'super': 1239, 'loss': 777, 'playing': 982, 'puppy': 1018, 'ly': 790, 'word': 1453, 'stomach': 1214, 'hey': 615, 'every': 416, 'best': 147, 'money': 847, 'pet': 962, 'theory': 1280, 'knew': 719, 'after': 36, '20': 11, 'died': 339, 'beer': 141, 'talking': 1256, 'breaking': 185, 'poorly': 992, 'kutner': 721, 'available': 109, 'goodnight': 554, 'follower': 495, 'forgot': 504, 'shoot': 1129, 'cheers': 240, 'shitty': 1127, 'told': 1308, 'looks': 774, 'mine': 833, 'vid': 1382, 'nap': 875, 'itunes': 689, 'b4': 118, 'killed': 711, 'ipod': 681, 'minute': 835, 'by': 210, 'talk': 1255, 'wife': 1431, 'thank': 1272, 'sent': 1113, 'gunna': 568, 'easier': 384, 'london': 766, 'dont': 356, 'remembered': 1051, 'writing': 1467, 'article': 95, 'test': 1268, 'about': 25, 'drive': 368, 'rainy': 1030, 'taking': 1254, 'its': 688, 'mac': 791, 'great': 561, 'rubbish': 1073, 'play': 979, 'friday': 514, 'wednesday': 1411, 'stop': 1215, 'da': 305, 'given': 542, 'fight': 469, 'ohhh': 914, 'havent': 595, 'non': 894, 'made': 795, 'wrong': 1468, 'extra': 435, 'pair': 945, 'myself': 869, 'season': 1100, 'cheese': 241, 'hahahaha': 578, 'left': 741, '40': 19, 'dollar': 353, 'month': 849, 'sell': 1110, 'glass': 545, 'uploaded': 1364, 'onto': 924, 'youtube': 1495, 'future': 527, 'often': 911, 'listen': 757, 'brothers': 194, 'band': 128, 'hello': 610, 'properly': 1015, 'whats': 1422, 'install': 673, 'application': 83, 'didn': 336, 'tough': 1319, 'copy': 279, 'promise': 1013, 'shot': 1133, 'productive': 1010, 'hr': 642, 'gotten': 560, 'sooo': 1184, 'count': 284, 'breath': 186, 'cuddle': 297, 'with': 1442, 'meet': 816, 'drunk': 372, 'together': 1307, 'due': 374, 'power': 998, 'price': 1005, 'crazy': 292, 'minutes': 836, 'run': 1075, 'begin': 143, 'throat': 1293, 'thursday': 1294, 'wanted': 1394, 'service': 1117, 'over': 937, 'sydney': 1249, 'airport': 48, '80': 23, 'fly': 490, 'australia': 108, 'goodbye': 553, 'yawn': 1479, 'real': 1039, 'rough': 1070, 'shining': 1124, 'earthquake': 383, 'italy': 687, 'dude': 373, 'trip': 1330, 'snowing': 1166, 'podcast': 988, 'none': 895, 'co': 259, 'entire': 406, 'budget': 200, 'age': 39, 'doctor': 347, 'result': 1058, 'walk': 1391, 'shame': 1120, 'number': 904, 'eh': 390, 'vet': 1380, 'science': 1096, 'beach': 135, 'look': 770, 'beautiful': 138, 'homework': 630, '3am': 18, 'hospital': 635, 'dad': 306, 'spend': 1196, 'girlfriend': 540, 'shower': 1137, 'loving': 783, 'daughter': 313, 'php': 966, 'give': 541, 'cried': 295, 'across': 29, 'allergy': 53, 'won': 1447, 'cute': 303, 'excited': 426, 'joe': 696, 'type': 1352, 'fault': 455, 'hun': 650, 'evening': 413, 'how': 640, 'favourite': 457, 'book': 170, 'although': 61, 'em': 393, '30am': 17, 'mmm': 842, 'jealous': 692, 'sa': 1077, 'evil': 421, 'reading': 1037, 'different': 340, 'turning': 1339, 'flat': 486, 'massive': 807, 'essay': 410, 'nick': 889, 'wine': 1438, 'kid': 707, 'needed': 880, 'doubt': 359, 'chance': 233, 'been': 140, 'hear': 603, 'get': 535, 'listening': 758, 'bacon': 123, 'sunday': 1236, 'tommcfly': 1310, 'animal': 69, 'btw': 198, 'doc': 346, 'laundry': 732, 'jean': 693, 'usually': 1374, 'worse': 1461, 'kitchen': 716, 'album': 50, 'four': 508, 'memory': 818, 'monster': 848, 'follow': 494, 'enjoy': 402, 'film': 472, 'die': 338, 'said': 1081, 'had': 574, 'egg': 389, 'worry': 1460, 'roll': 1068, 'behind': 144, 'dan': 308, 'disappointed': 342, 'bike': 153, 'ms': 861, 'messed': 822, 'ain': 46, 'fast': 453, 'mark': 804, 'exactly': 422, 'third': 1287, 'review': 1060, 'aw': 110, 'shirt': 1125, 'fit': 482, 'wear': 1406, 'yr': 1497, 'text': 1269, 'second': 1101, 'research': 1056, 'attack': 106, 'dm': 344, 'bug': 201, 'project': 1012, 'issue': 685, 'plus': 987, 'jus': 702, 'mate': 808, 'hang': 583, 'support': 1240, 'question': 1021, 'date': 312, 'important': 664, 'block': 161, 'green': 562, 'knee': 718, 'somewhere': 1178, 'www': 1471, 'feels': 465, 'supposed': 1241, 'close': 255, 'wrote': 1469, 'credit': 294, 'raining': 1029, 'tho': 1289, 'blast': 159, 'gah': 528, 'brought': 195, '18': 9, 'whole': 1428, 'hungry': 651, 'website': 1410, 'voice': 1386, 'bitch': 157, 'hahaha': 577, 'them': 1278, 'deal': 320, 'live': 760, 'famous': 447, 'tom': 1309, 'mum': 864, 'glad': 544, 'dear': 321, 'leg': 742, 'white': 1426, 'shout': 1135, 'tooth': 1315, 'boyfriend': 179, 'feedback': 462, '00': 0, 'wonderful': 1449, 'body': 168, 'inside': 671, 'via': 1381, 'are': 88, 'coz': 289, 'perfect': 957, 'holidays': 627, 'milk': 830, 'mother': 855, 'telling': 1265, 'mr': 860, 'vegas': 1377, 'laughing': 731, 'chat': 237, 'level': 745, 'hubby': 644, 'visit': 1385, 'kidding': 708, 'client': 253, 'yummy': 1498, 'dinner': 341, 'mouth': 856, 'handle': 582, 'ass': 101, 'otherwise': 932, 'forum': 505, 'coursework': 287, 'schofe': 1094, 'yup': 1499, 'na': 871, 'sign': 1143, 'crap': 290, 'teeth': 1263, 'sometimes': 1177, 'cannot': 219, 'ahh': 44, 'sadly': 1079, 'oops': 926, 'street': 1219, 'appointment': 84, 'losing': 776, 'who': 1427, 'random': 1032, 'rehearsal': 1048, 'bet': 148, 'remember': 1050, 'welcome': 1416, 'shit': 1126, 'excellent': 424, 'paid': 941, '11': 4, 'move': 857, 'arm': 91, 'return': 1059, 'road': 1066, 'hip': 621, 'rock': 1067, 'sounds': 1190, 'offer': 908, '2nd': 15, 'feed': 461, 'thanx': 1274, 'congrats': 274, 'tear': 1262, 'innocent': 670, 'putting': 1020, 'save': 1087, 'having': 596, 'insomnia': 672, 'watched': 1400, 'nite': 891, 'line': 754, 'upload': 1363, 'personal': 961, 'web': 1409, 'check': 238, 'order': 930, 'finding': 476, 'light': 749, 'store': 1217, 'from': 517, 'kinda': 714, 'eat': 387, 'quiet': 1023, 'shift': 1123, 'sux': 1245, 'fuck': 521, 'tweetdeck': 1342, 'xo': 1473, 'mile': 827, 'spent': 1198, 'pop': 993, 'math': 809, 'clock': 254, 'cd': 229, 'scary': 1092, 'lately': 728, 'killing': 712, 'winter': 1439, 'smile': 1164, 'should': 1134, 'does': 348, 'machine': 793, 'situation': 1155, 'signed': 1144, 'ring': 1065, 'lose': 775, 'pick': 968, 'dr': 361, 'hd': 597, 'officially': 910, 'an': 67, 'excuse': 428, 'mood': 850, 'exhausted': 429, 'dress': 364, 'enjoying': 404, 'terrible': 1267, 'action': 30, 'bye': 211, 'soo': 1182, 'amazing': 64, 'living': 761, 'catch': 226, 'sometime': 1176, 'england': 400, 'touch': 1318, 'giving': 543, 'person': 960, '15': 7, 'front': 518, 'page': 940, 'hurting': 653, 'wind': 1434, 'caught': 227, 'user': 1371, 'request': 1055, 'ago': 40, 'hours': 638, 'wicked': 1430, '100': 2, 'awesome': 113, 'sway': 1246, 'concert': 273, 'dying': 378, 'replace': 1052, 'waste': 1398, 'summer': 1234, 'advice': 35, 'speak': 1193, 'god': 547, 'american': 65, 'history': 622, 'buy': 209, 'others': 931, 'absolutely': 26, 'cooking': 277, 'wtf': 1470, 'screen': 1097, 'sit': 1152, 'makes': 798, 'cousin': 288, 'spring': 1200, 'cleaning': 252, 'etc': 411, 'freezing': 511, 'kick': 706, 'impressed': 665, 'quick': 1022, 'alright': 59, 'if': 659, 'happened': 586, 'social': 1168, 'mention': 820, 'presentation': 1003, 'surgery': 1243, 'swimming': 1248, 'middle': 824, 'frustrating': 520, 'hugs': 647, 'cell': 230, 'singing': 1149, 'taken': 1253, 'style': 1228, 'babe': 119, 'gay': 532, 'once': 920, 'sweet': 1247, 'chris': 248, 'passed': 951, 'gutted': 569, 'sister': 1151, 'son': 1179, 'pissed': 973, 'bread': 182, 'performance': 958, 'ima': 663, 'twice': 1346, 'tweets': 1345, 'control': 276, 'character': 236, 'rid': 1062, 'joy': 699, 'gave': 531, 'fair': 443, 'chilling': 244, 'building': 202, 'yep': 1486, 'cream': 293, 'session': 1118, 'breakfast': 184, 'crappy': 291, 'exam': 423, 'nature': 876, 'french': 512, 'taste': 1257, 'times': 1301, 'mama': 800, 'relaxing': 1049, 'sold': 1172, 'planning': 978, 'indeed': 667, 'interview': 678, 'recently': 1045, 'photos': 965, 'rate': 1033, 'player': 981, 'myspace': 870, 'sleepy': 1158, 'interested': 675, 'state': 1207, 'share': 1121, 'felt': 467, 'brain': 181, 'preparing': 1001, 'received': 1044, 'tweeting': 1344, 'market': 805, 'lady': 723, 'attend': 107, 'lee': 740, 'while': 1425, 'asked': 99, 'mad': 794, 'barely': 131, 'pas': 950, 'took': 1314, 'bank': 129, 'such': 1229, 'turned': 1338, 'extremely': 436, 'added': 34, 'soooo': 1185, 'shut': 1138, 'url': 1367, 'dumb': 375, 'schedule': 1093, 'tr': 1322, 'th': 1271, 'nh': 887, 'ch': 232, 'free': 510, 'track': 1323, 'ng': 886, 'deleted': 326, 'yeh': 1485, 'note': 900, 'box': 177, 'falling': 445, 'le': 735, 'fed': 460, 'gd': 533, 'mornin': 853, 'hav': 592, 'sort': 1188, 'server': 1116, 'before': 142, 'gosh': 557, 'normal': 897, 'gorgeous': 556, 'decided': 323, 'near': 877, 'noticed': 902, 'lesson': 743, 'looked': 771, 'bradiewebbstack': 180, 'followers': 496, 'fix': 484, 'desk': 333, 'agree': 41, 'ball': 127, 'sing': 1148, 'weird': 1415, 'def': 324, 'prob': 1007, 'songs': 1181, 'forget': 503, 'infection': 668, '14': 6, '16': 8, 'everywhere': 420, 'training': 1326, 'bro': 190, 'healthy': 602, '1000': 3, 'drop': 370, 'met': 823, 'ha': 573, 'tim': 1299, 'sending': 1112, 'exciting': 427, 'chicken': 242, 'soup': 1191, 'updating': 1362, 'depressing': 331, '4th': 20, 'land': 724, 'yours': 1494, 'high': 617, 'came': 216, 'card': 222, 'special': 1195, 'wonder': 1448, 'surprised': 1244, 'any': 74, 'serious': 1114, 'beyond': 151, 'record': 1046, 'keeping': 705, 'comment': 268, 'rather': 1034, 'david': 314, 'annoyed': 70, 'unless': 1359, 'delicious': 327, 'picked': 969, 'windy': 1437, 'liked': 751, 'cheer': 239, 'bday': 133, 'earth': 382, 'fantastic': 450, 'juice': 700, 'sale': 1083, 'worth': 1463, 'pls': 985, 'whatever': 1421, 'id': 657, 'cereal': 231, 'favorite': 456, 'bing': 154, 'spanish': 1192, 'apple': 82, 'proper': 1014, 'midnight': 825, 'present': 1002, 'woman': 1446, 'hehe': 607, 'cuz': 304, 'lookin': 772, 'speaking': 1194, 'win': 1433, 'husband': 655, 'sea': 1098, 'hilarious': 618, 'ended': 397, 'hahah': 576, 'expected': 431, 'tip': 1303, 'travel': 1327, 'pleasure': 984, 'fruit': 519, 'brilliant': 188, 'section': 1103, 'realized': 1041, 'him': 620, 'yo': 1491, 'send': 1111, 'bbq': 132, 'along': 57, 'msu': 862, 'five': 483, 'enjoyed': 403, 'clothes': 257, 'experience': 433, 'tweeted': 1343, 'double': 358, 'mini': 834, 'musical': 866, 'sum': 1233, 'perhaps': 959, 'artist': 96, 'stephenfry': 1211, '1st': 10, 'wearing': 1407, 'join': 697, 'salad': 1082, 'saying': 1090, 'taco': 1251, 'dreams': 363, 'current': 299, 'jesus': 694, 'ground': 564, 'radio': 1027, 'fat': 454, 'desktop': 334, 'fixed': 485, 'case': 224, 'james': 691, '50': 21, 'couch': 281, 'care': 223, 'prince': 1006, 'brown': 196, 'blonde': 164, 'helping': 612, 'goin': 548, 'kiss': 715, 'background': 122, 'colour': 264, 'packing': 939, 'macbook': 792, 'ice': 656, 'haven': 594, 'disney': 343, 'nope': 896, 'studying': 1225, 'buddy': 199, 'fans': 449, 'moon': 851, 'worked': 1455, 'stick': 1212, 'terminator': 1266, 'ending': 398, 'safe': 1080, 'played': 980, 'both': 173, 'odd': 905, 'warm': 1396, 'curry': 301, 'event': 414, 'fabulous': 438, 'positive': 994, 'matter': 810, 'design': 332, 'doin': 351, 'garden': 530, 'woohoo': 1452, 'choose': 247, 'prefer': 1000, 'heh': 606, 'appreciate': 85, 'painting': 944, 'demi': 328, 'yey': 1490, 'married': 806, 'flower': 488, 'youu': 1496, 'bright': 187, 'alive': 51, 'pictures': 971, 'ddlovato': 317, 'ooh': 925, 'followfriday': 497, 'ii': 660, 'wave': 1403, 'thx': 1295, 'luv': 789, 'tgif': 1270, 'proud': 1016, 'tcot': 1259, 'taylorswift13': 1258, 'hehehe': 608, 'secret': 1102, 'nail': 873, 'laugh': 730}\n"
     ]
    }
   ],
   "source": [
    "print(Tfidf_vect.vocabulary_)"
   ]
  },
  {
   "cell_type": "code",
   "execution_count": 21,
   "metadata": {},
   "outputs": [
    {
     "name": "stdout",
     "output_type": "stream",
     "text": [
      "  (0, 1189)\t0.4122736787865389\n",
      "  (0, 773)\t0.37545298361105656\n",
      "  (0, 686)\t0.2702763173568607\n",
      "  (0, 561)\t0.3282941287818739\n",
      "  (0, 506)\t0.3991012199466304\n",
      "  (0, 415)\t0.40922989206298277\n",
      "  (0, 214)\t0.4260143892405095\n",
      "  (1, 1204)\t0.49255376932058526\n",
      "  (1, 1140)\t0.45622100770296947\n",
      "  (1, 611)\t0.4981341872359417\n",
      "  (1, 480)\t0.5487399274386351\n",
      "  (2, 1276)\t0.5095029166490661\n",
      "  (2, 636)\t0.5204247232296284\n",
      "  (2, 628)\t0.6852480466060882\n",
      "  (3, 1038)\t0.7963404223270638\n",
      "  (3, 854)\t0.6048486850179585\n",
      "  (4, 1214)\t0.703654788589127\n",
      "  (4, 28)\t0.7105420033295646\n",
      "  (5, 1492)\t0.22830476453423423\n",
      "  (5, 1369)\t0.3214707321555486\n",
      "  (5, 1367)\t0.4310340505478191\n",
      "  (5, 1272)\t0.28823278317152395\n",
      "  (5, 1147)\t0.3255169792851955\n",
      "  (5, 920)\t0.41555971103017886\n",
      "  (5, 33)\t0.4035568808058978\n",
      "  :\t:\n",
      "  (6995, 1140)\t0.29004562112685484\n",
      "  (6995, 1021)\t0.3981665150291597\n",
      "  (6995, 890)\t0.24647750325222062\n",
      "  (6995, 726)\t0.26166254131374295\n",
      "  (6995, 577)\t0.3545983971545254\n",
      "  (6995, 372)\t0.4292605299623747\n",
      "  (6995, 367)\t0.4067316120901224\n",
      "  (6996, 879)\t1.0\n",
      "  (6997, 1489)\t0.5957339585360895\n",
      "  (6997, 921)\t0.4660756547484914\n",
      "  (6997, 867)\t0.6541211926682133\n",
      "  (6998, 1446)\t0.3031979096017504\n",
      "  (6998, 1442)\t0.2850056271918814\n",
      "  (6998, 1386)\t0.3058287340103768\n",
      "  (6998, 782)\t0.26104530895351724\n",
      "  (6998, 605)\t0.2775735386751666\n",
      "  (6998, 497)\t0.23708499071515315\n",
      "  (6998, 494)\t0.24421623926722916\n",
      "  (6998, 468)\t0.2658465730616057\n",
      "  (6998, 138)\t0.4946589582617415\n",
      "  (6998, 66)\t0.39611505032627325\n",
      "  (6999, 1213)\t0.4660261800391121\n",
      "  (6999, 888)\t0.540985322602626\n",
      "  (6999, 765)\t0.4525731672478908\n",
      "  (6999, 575)\t0.534164776575448\n"
     ]
    }
   ],
   "source": [
    "print(Train_X_Tfidf)"
   ]
  },
  {
   "cell_type": "code",
   "execution_count": 22,
   "metadata": {},
   "outputs": [
    {
     "name": "stdout",
     "output_type": "stream",
     "text": [
      "Naive Bayes Accuracy Score ->  72.14261912695768\n"
     ]
    }
   ],
   "source": [
    "Naive = naive_bayes.MultinomialNB()\n",
    "Naive.fit(Train_X_Tfidf,Train_Y)\n",
    "predictions_NB = Naive.predict(Test_X_Tfidf)\n",
    "print(\"Naive Bayes Accuracy Score -> \",accuracy_score(predictions_NB, Test_Y)*100)"
   ]
  },
  {
   "cell_type": "code",
   "execution_count": 23,
   "metadata": {},
   "outputs": [
    {
     "name": "stdout",
     "output_type": "stream",
     "text": [
      "SVM Accuracy Score ->  73.20893035654782\n"
     ]
    }
   ],
   "source": [
    "SVM = svm.SVC(C=1.0, kernel='linear', degree=3, gamma='auto')\n",
    "SVM.fit(Train_X_Tfidf,Train_Y)\n",
    "predictions_SVM = SVM.predict(Test_X_Tfidf)\n",
    "print(\"SVM Accuracy Score -> \",accuracy_score(predictions_SVM, Test_Y)*100)"
   ]
  },
  {
   "cell_type": "code",
   "execution_count": 24,
   "metadata": {},
   "outputs": [
    {
     "name": "stdout",
     "output_type": "stream",
     "text": [
      "Confusion Matrix :\n",
      "[[1042  432]\n",
      " [ 372 1155]]\n",
      "Accuracy Score : 0.7320893035654782\n",
      "Report : \n",
      "             precision    recall  f1-score   support\n",
      "\n",
      "          0       0.74      0.71      0.72      1474\n",
      "          1       0.73      0.76      0.74      1527\n",
      "\n",
      "avg / total       0.73      0.73      0.73      3001\n",
      "\n"
     ]
    }
   ],
   "source": [
    "from sklearn.metrics import confusion_matrix \n",
    "from sklearn.metrics import accuracy_score \n",
    "from sklearn.metrics import classification_report \n",
    "actual = Test_Y\n",
    "predicted = predictions_SVM\n",
    "results = confusion_matrix(actual, predicted) \n",
    "print ('Confusion Matrix :')\n",
    "print(results) \n",
    "print ('Accuracy Score :',accuracy_score(actual, predicted)) \n",
    "print ('Report : ')\n",
    "print (classification_report(actual, predicted)) "
   ]
  },
  {
   "cell_type": "code",
   "execution_count": null,
   "metadata": {},
   "outputs": [],
   "source": []
  }
 ],
 "metadata": {
  "kernelspec": {
   "display_name": "Python 3",
   "language": "python",
   "name": "python3"
  },
  "language_info": {
   "codemirror_mode": {
    "name": "ipython",
    "version": 3
   },
   "file_extension": ".py",
   "mimetype": "text/x-python",
   "name": "python",
   "nbconvert_exporter": "python",
   "pygments_lexer": "ipython3",
   "version": "3.6.5"
  }
 },
 "nbformat": 4,
 "nbformat_minor": 2
}
